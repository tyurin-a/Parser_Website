{
 "cells": [
  {
   "cell_type": "code",
   "execution_count": 3,
   "metadata": {},
   "outputs": [],
   "source": [
    "from sklearn.model_selection import train_test_split, StratifiedKFold\n",
    "from sklearn.tree import DecisionTreeClassifier\n",
    "#from sklearn.neighbors import KNeighborsClassifier\n",
    "from sklearn.model_selection import GridSearchCV, cross_val_score\n",
    "from sklearn.ensemble import RandomForestClassifier\n",
    "from sklearn.metrics import accuracy_score\n",
    "import pandas as pd\n",
    "import numpy as np\n",
    "from sklearn.preprocessing import OrdinalEncoder\n",
    "from sklearn.preprocessing import OneHotEncoder\n",
    "import openpyxl\n",
    "import joblib"
   ]
  },
  {
   "cell_type": "code",
   "execution_count": 4,
   "metadata": {},
   "outputs": [],
   "source": [
    "# Display in terminal all columns for viewing\n",
    "pd.set_option('display.max_columns', None)\n",
    "\n",
    "file = r'C:\\Users\\Артем\\Desktop\\Здания\\Results\\test_data_12.07.xlsx'\n",
    "\n",
    "xl = pd.ExcelFile(file)\n",
    "df = xl.parse()\n",
    "#print(df.dtypes)"
   ]
  },
  {
   "cell_type": "code",
   "execution_count": 5,
   "metadata": {},
   "outputs": [],
   "source": [
    "address = df[['shortname_region', 'formalname_region', 'shortname_city', 'formalname_city', 'address']]\n",
    "\n",
    "df['energy_efficiency'] = df['energy_efficiency'].astype('category')\n",
    "classes = ['G', 'F', 'E', 'D', 'C', 'B', 'B+', 'B++', 'A', 'A+', 'A++']\n",
    "encoder = OrdinalEncoder(categories = [classes])\n",
    "df['energy_efficiency_encoded'] = encoder.fit_transform(df[['energy_efficiency']])\n",
    "#print(df[['energy_efficiency','energy_efficiency_encoded']].head())\n",
    "target = df['energy_efficiency_encoded']\n",
    "\n",
    "df['project_type'] = df['project_type'].astype('category')\n",
    "project = df['project_type']\n",
    "df.drop(['shortname_region', 'formalname_region', 'shortname_city', 'formalname_city', 'address', 'energy_efficiency', 'project_type', 'energy_efficiency_encoded'], axis=1, inplace=True)\n"
   ]
  },
  {
   "cell_type": "code",
   "execution_count": 6,
   "metadata": {},
   "outputs": [],
   "source": [
    "# Change value type from text columns (from object to categorial)\n",
    "df[['house_type', 'is_alarm', 'foundation_type', 'floor_type', 'wall_material', \n",
    "    'chute_type', 'electrical_type', 'heating_type', 'hot_water_type', 'cold_water_type', 'sewerage_type', \n",
    "    'gas_type', 'ventilation_type', 'firefighting_type', 'drainage_type']] = df[['house_type', 'is_alarm', 'foundation_type', 'floor_type', 'wall_material', \n",
    "    'chute_type', 'electrical_type', 'heating_type', 'hot_water_type', 'cold_water_type', 'sewerage_type', \n",
    "    'gas_type', 'ventilation_type', 'firefighting_type', 'drainage_type']].apply(lambda x: x.astype('category'))\n"
   ]
  },
  {
   "cell_type": "code",
   "execution_count": 7,
   "metadata": {},
   "outputs": [],
   "source": [
    "# Factorize columns (drop_first=True in pd.get_dummies need to emit N-1 variables to avoid collinearity\n",
    "df['is_alarm'] = [1 if i == 'Нет' else 0 for i in df['is_alarm']]\n",
    "\n",
    "# # Alternative way to factorize with OneHotEncoding algorythm: it works correct, but cannot rename all columns for further analisys\n",
    "# encoder = OneHotEncoder(sparse_output = False)\n",
    "# onehot_columns = encoder.fit_transform(df[['house_type', 'foundation_type', 'floor_type', 'wall_material', \n",
    "#     'chute_type', 'electrical_type', 'heating_type', 'hot_water_type', 'cold_water_type', 'sewerage_type', \n",
    "#     'gas_type', 'ventilation_type', 'firefighting_type', 'drainage_type']])\n",
    "# df = pd.concat([df, pd.DataFrame(onehot_columns)], axis=1)\n",
    "\n",
    "df = pd.get_dummies(df, columns=['house_type', 'foundation_type', 'floor_type', 'wall_material', \n",
    "    'chute_type', 'electrical_type', 'heating_type', 'hot_water_type', 'cold_water_type', 'sewerage_type', \n",
    "    'gas_type', 'ventilation_type', 'firefighting_type', 'drainage_type'], drop_first=True)"
   ]
  },
  {
   "cell_type": "code",
   "execution_count": 8,
   "metadata": {},
   "outputs": [],
   "source": [
    "# Define train and test datasets\n",
    "X_train, X_holdout, y_train, y_holdout = train_test_split(df.values, target, test_size=0.2,random_state=17)"
   ]
  },
  {
   "cell_type": "code",
   "execution_count": 9,
   "metadata": {},
   "outputs": [
    {
     "name": "stdout",
     "output_type": "stream",
     "text": [
      "0.4824954128440367\n"
     ]
    },
    {
     "data": {
      "text/plain": [
       "['model_tree.joblib']"
      ]
     },
     "execution_count": 9,
     "metadata": {},
     "output_type": "execute_result"
    }
   ],
   "source": [
    "# Decision Tree\n",
    "tree = DecisionTreeClassifier(max_depth=19, max_features = 20, random_state=17)\n",
    "# KNN: doesn't work with NaN values\n",
    "#knn = KNeighborsClassifier(n_neighbors=10)\n",
    "\n",
    "tree.fit(X_train, y_train)\n",
    "#knn.fit(X_train, y_train)\n",
    "\n",
    "tree_pred = tree.predict(X_holdout)\n",
    "t = accuracy_score(y_holdout, tree_pred)\n",
    "#knn_pred = knn.predict(X_holdout)\n",
    "#k = accuracy_score(y_holdout, knn_pred)\n",
    "\n",
    "print(t)\n",
    "#print(k)\n",
    "\n",
    "joblib.dump(tree, \"model_tree.joblib\")"
   ]
  },
  {
   "cell_type": "code",
   "execution_count": 11,
   "metadata": {},
   "outputs": [
    {
     "name": "stdout",
     "output_type": "stream",
     "text": [
      "Fitting 5 folds for each of 437 candidates, totalling 2185 fits\n"
     ]
    }
   ],
   "source": [
    "#Decision Tree with cross-validation\n",
    "tree_params = {'max_depth': range(1,20), 'max_features': range(4,27)}\n",
    "tree_grid = GridSearchCV(tree, tree_params, cv=5, n_jobs=-1, verbose=True)\n",
    "tree_grid.fit(X_train, y_train)\n",
    "\n",
    "tg_bp = tree_grid.best_params_\n",
    "tg_bs = tree_grid.best_score_\n",
    "tg = accuracy_score(y_holdout, tree_grid.predict(X_holdout))\n",
    "\n",
    "#print(tg_bp)\n",
    "#print(tg_bs)\n",
    "print(tg)\n",
    "\n",
    "joblib.dump(tree_grid, \"model_tree_with_cv.joblib\")"
   ]
  },
  {
   "cell_type": "code",
   "execution_count": null,
   "metadata": {},
   "outputs": [],
   "source": [
    "#Random forest with cross-validation\n",
    "forest = RandomForestClassifier(n_estimators=100, max_depth = 10, max_features = 8, n_jobs=-1, random_state=17)\n",
    "\n",
    "#print(np.mean(cross_val_score(forest, X_train, y_train, cv=5)))\n",
    "forest_params = {'max_depth': range(1,20), 'max_features': range(4,27)}\n",
    "forest_grid = GridSearchCV(forest, forest_params, cv=5, n_jobs=-1, verbose=True)\n",
    "forest_grid.fit(X_train, y_train)\n",
    "\n",
    "fg_bp = forest_grid.best_params_\n",
    "fg_bs = forest_grid.best_score_\n",
    "fg = accuracy_score(y_holdout, forest_grid.predict(X_holdout))\n",
    "\n",
    "#print(fg_bp)\n",
    "#print(fg_bs)\n",
    "print(fg)\n",
    "\n",
    "joblib.dump(forest_grid, \"model_random_forest.joblib\")"
   ]
  }
 ],
 "metadata": {
  "kernelspec": {
   "display_name": "Python 3",
   "language": "python",
   "name": "python3"
  },
  "language_info": {
   "codemirror_mode": {
    "name": "ipython",
    "version": 3
   },
   "file_extension": ".py",
   "mimetype": "text/x-python",
   "name": "python",
   "nbconvert_exporter": "python",
   "pygments_lexer": "ipython3",
   "version": "3.10.4"
  }
 },
 "nbformat": 4,
 "nbformat_minor": 2
}
