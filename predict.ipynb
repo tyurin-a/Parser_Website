{
 "cells": [
  {
   "cell_type": "code",
   "execution_count": 2,
   "metadata": {},
   "outputs": [],
   "source": [
    "import pandas as pd\n",
    "import numpy as np\n",
    "from sklearn.preprocessing import OrdinalEncoder\n",
    "import joblib"
   ]
  },
  {
   "cell_type": "code",
   "execution_count": 6,
   "metadata": {},
   "outputs": [],
   "source": [
    "# Display in terminal all columns for viewing\n",
    "pd.set_option('display.max_columns', None)\n",
    "\n",
    "file = r'C:\\Users\\Артем\\Desktop\\Здания\\Results\\data_24.07.xlsx'\n",
    "\n",
    "xl = pd.ExcelFile(file)\n",
    "df = xl.parse()\n",
    "#print(df.dtypes)"
   ]
  },
  {
   "cell_type": "code",
   "execution_count": null,
   "metadata": {},
   "outputs": [],
   "source": [
    "address = df[['shortname_region', 'formalname_region', 'shortname_city', 'formalname_city', 'address']]\n",
    "\n",
    "# df['energy_efficiency'] = df['energy_efficiency'].astype('category')\n",
    "# classes = ['G', 'F', 'E', 'D', 'C', 'B', 'B+', 'B++', 'A', 'A+', 'A++']\n",
    "# encoder = OrdinalEncoder(categories = [classes])\n",
    "# df['energy_efficiency_encoded'] = encoder.fit_transform(df[['energy_efficiency']])\n",
    "# #print(df[['energy_efficiency','energy_efficiency_encoded']].head())\n",
    "# target = df['energy_efficiency_encoded']\n",
    "\n",
    "df['project_type'] = df['project_type'].astype('category')\n",
    "project = df['project_type']\n",
    "target = df['energy_efficiency']\n",
    "df.drop(['shortname_region', 'formalname_region', 'shortname_city', 'formalname_city', 'energy_efficiency', 'address', 'project_type'], axis=1, inplace=True)\n"
   ]
  },
  {
   "cell_type": "code",
   "execution_count": null,
   "metadata": {},
   "outputs": [],
   "source": [
    "# Change value type from text columns (from object to categorial)\n",
    "df[['house_type', 'is_alarm', 'foundation_type', 'floor_type', 'wall_material', \n",
    "    'chute_type', 'electrical_type', 'heating_type', 'hot_water_type', 'cold_water_type', 'sewerage_type', \n",
    "    'gas_type', 'ventilation_type', 'firefighting_type', 'drainage_type']] = df[['house_type', 'is_alarm', 'foundation_type', 'floor_type', 'wall_material', \n",
    "    'chute_type', 'electrical_type', 'heating_type', 'hot_water_type', 'cold_water_type', 'sewerage_type', \n",
    "    'gas_type', 'ventilation_type', 'firefighting_type', 'drainage_type']].apply(lambda x: x.astype('category'))\n",
    "\n",
    "# Factorize columns (drop_first=True in pd.get_dummies need to emit N-1 variables to avoid collinearity\n",
    "df['is_alarm'] = [1 if i == 'Нет' else 0 for i in df['is_alarm']]\n",
    "\n",
    "df = pd.get_dummies(df, columns=['house_type', 'foundation_type', 'floor_type', 'wall_material', \n",
    "    'chute_type', 'electrical_type', 'heating_type', 'hot_water_type', 'cold_water_type', 'sewerage_type', \n",
    "    'gas_type', 'ventilation_type', 'firefighting_type', 'drainage_type'], drop_first=True)\n",
    "\n",
    "#print(df.head())\n",
    "col = df.columns"
   ]
  },
  {
   "cell_type": "code",
   "execution_count": 7,
   "metadata": {},
   "outputs": [],
   "source": [
    "test_col = ['built_year', 'exploitation_start_year', 'is_alarm', 'floor_count_max',\n",
    "       'entrance_count', 'elevators_count', 'area_total', 'area_residential',\n",
    "       'area_non_residential', 'basement_area', 'chute_count',\n",
    "       'electrical_entries_count', 'sewerage_cesspools_volume',\n",
    "       'energy_efficiency_encoded', 'house_type_Многоквартирный дом',\n",
    "       'house_type_Сооружение, не предназначенное для проживания',\n",
    "       'house_type_Специализированный жилищный фонд', 'foundation_type_Иной',\n",
    "       'foundation_type_Комбинированный', 'foundation_type_Ленточный',\n",
    "       'foundation_type_Отсутствует', 'foundation_type_Сборный',\n",
    "       'foundation_type_Свайный', 'foundation_type_Сплошной',\n",
    "       'foundation_type_Столбчатый', 'floor_type_Железобетонные',\n",
    "       'floor_type_Иные', 'floor_type_Смешанные', 'wall_material_Деревянные',\n",
    "       'wall_material_Ж/б 3-х слойная панель с утеплителем',\n",
    "       'wall_material_Железобетон', 'wall_material_Железобетонная панель',\n",
    "       'wall_material_Иные', 'wall_material_Керамзитобетон',\n",
    "       'wall_material_Керамзитобетон (блоки)',\n",
    "       'wall_material_Керамзитобетонная 1-слойная панель',\n",
    "       'wall_material_Кирпич', 'wall_material_Монолитно-Кирпичные',\n",
    "       'wall_material_Монолитные', 'wall_material_Панельные',\n",
    "       'wall_material_Смешанные', 'wall_material_Шлакобетон (блоки)',\n",
    "       'chute_type_Cухой (холодный)', 'chute_type_Квартирные',\n",
    "       'chute_type_Мокрый', 'chute_type_На лестничной клетке',\n",
    "       'chute_type_Отсутствует', 'chute_type_Холодный',\n",
    "       'electrical_type_Отсутствует', 'electrical_type_Центральное',\n",
    "       'heating_type_Газовая колонка',\n",
    "       'heating_type_Индивидуальный тепловой пункт (ИТП)',\n",
    "       'heating_type_Квартирное отопление (квартирный котел)',\n",
    "       'heating_type_Центральное', 'heating_type_Электроотопление',\n",
    "       'hot_water_type_Закрытая с приготовлением горячей воды на ИТП',\n",
    "       'hot_water_type_Закрытая с приготовлением горячей воды на ЦТП',\n",
    "       'hot_water_type_Квартирное (квартирный котел)',\n",
    "       'hot_water_type_Открытая с отбором сетевой воды на горячее водоснабжение из тепловой сети',\n",
    "       'hot_water_type_Отсутствует', 'hot_water_type_Печное',\n",
    "       'cold_water_type_Отсутствует', 'cold_water_type_Центральное',\n",
    "       'sewerage_type_Отсутствует', 'sewerage_type_Центральное',\n",
    "       'gas_type_Отсутствует', 'gas_type_Центральное',\n",
    "       'ventilation_type_Отсутствует', 'ventilation_type_Приточная вентиляция',\n",
    "       'ventilation_type_Приточно-вытяжная вентиляция',\n",
    "       'firefighting_type_Отсутствует', 'firefighting_type_Пожарные гидранты',\n",
    "       'firefighting_type_Пожарный кран', 'drainage_type_Наружные водостоки',\n",
    "       'drainage_type_Отсутствует', 'drainage_type_Смешанные']"
   ]
  },
  {
   "cell_type": "code",
   "execution_count": 8,
   "metadata": {},
   "outputs": [],
   "source": [
    "def returnMatches(a, b):\n",
    "    matches = []\n",
    "    for i in a:\n",
    "        if i not in b:\n",
    "            matches.append(i)\n",
    "    return matches\n"
   ]
  },
  {
   "cell_type": "code",
   "execution_count": 9,
   "metadata": {},
   "outputs": [
    {
     "data": {
      "text/plain": [
       "['energy_efficiency_encoded']"
      ]
     },
     "execution_count": 9,
     "metadata": {},
     "output_type": "execute_result"
    }
   ],
   "source": [
    "returnMatches(test_col, col)"
   ]
  }
 ],
 "metadata": {
  "kernelspec": {
   "display_name": "Python 3",
   "language": "python",
   "name": "python3"
  },
  "language_info": {
   "codemirror_mode": {
    "name": "ipython",
    "version": 3
   },
   "file_extension": ".py",
   "mimetype": "text/x-python",
   "name": "python",
   "nbconvert_exporter": "python",
   "pygments_lexer": "ipython3",
   "version": "3.10.4"
  }
 },
 "nbformat": 4,
 "nbformat_minor": 2
}
